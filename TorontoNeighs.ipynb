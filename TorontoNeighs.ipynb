{
  "nbformat": 4,
  "nbformat_minor": 0,
  "metadata": {
    "colab": {
      "name": "TorontoNeighs.ipynb",
      "provenance": [],
      "collapsed_sections": [],
      "toc_visible": true,
      "authorship_tag": "ABX9TyOA5vxWgAw7qqARtgwNbFE/",
      "include_colab_link": true
    },
    "kernelspec": {
      "name": "python3",
      "display_name": "Python 3"
    }
  },
  "cells": [
    {
      "cell_type": "markdown",
      "metadata": {
        "id": "view-in-github",
        "colab_type": "text"
      },
      "source": [
        "<a href=\"https://colab.research.google.com/github/Tardiser/Coursera_Capstone/blob/master/TorontoNeighs.ipynb\" target=\"_parent\"><img src=\"https://colab.research.google.com/assets/colab-badge.svg\" alt=\"Open In Colab\"/></a>"
      ]
    },
    {
      "cell_type": "markdown",
      "metadata": {
        "id": "VFQdnRPC0USv",
        "colab_type": "text"
      },
      "source": [
        " # **<div align=\"center\"> Segmenting and Clustering Neighborhoods in Toronto </div>**\n",
        "\n",
        "---\n",
        "\n"
      ]
    },
    {
      "cell_type": "markdown",
      "metadata": {
        "id": "U5yUivhW1Ms1",
        "colab_type": "text"
      },
      "source": [
        "\n",
        "\n",
        "*   Let's first download and import our packages.\n",
        "\n"
      ]
    },
    {
      "cell_type": "code",
      "metadata": {
        "id": "mooi6nbMdnvN",
        "colab_type": "code",
        "colab": {}
      },
      "source": [
        "from bs4 import BeautifulSoup\n",
        "import requests\n",
        "import csv\n",
        "import pandas as pd\n",
        "import re"
      ],
      "execution_count": 0,
      "outputs": []
    },
    {
      "cell_type": "code",
      "metadata": {
        "id": "DZkbGy90d5Y8",
        "colab_type": "code",
        "outputId": "ddbf92d8-7ef1-4f7a-d6ab-30b8f16fdb24",
        "colab": {
          "base_uri": "https://localhost:8080/",
          "height": 289
        }
      },
      "source": [
        "!pip install geocoder\n",
        "import geocoder"
      ],
      "execution_count": 3,
      "outputs": [
        {
          "output_type": "stream",
          "text": [
            "Collecting geocoder\n",
            "\u001b[?25l  Downloading https://files.pythonhosted.org/packages/4f/6b/13166c909ad2f2d76b929a4227c952630ebaf0d729f6317eb09cbceccbab/geocoder-1.38.1-py2.py3-none-any.whl (98kB)\n",
            "\r\u001b[K     |███▎                            | 10kB 19.4MB/s eta 0:00:01\r\u001b[K     |██████▋                         | 20kB 2.2MB/s eta 0:00:01\r\u001b[K     |██████████                      | 30kB 2.8MB/s eta 0:00:01\r\u001b[K     |█████████████▎                  | 40kB 2.1MB/s eta 0:00:01\r\u001b[K     |████████████████▋               | 51kB 2.3MB/s eta 0:00:01\r\u001b[K     |████████████████████            | 61kB 2.7MB/s eta 0:00:01\r\u001b[K     |███████████████████████▎        | 71kB 2.9MB/s eta 0:00:01\r\u001b[K     |██████████████████████████▋     | 81kB 3.1MB/s eta 0:00:01\r\u001b[K     |██████████████████████████████  | 92kB 3.5MB/s eta 0:00:01\r\u001b[K     |████████████████████████████████| 102kB 3.1MB/s \n",
            "\u001b[?25hRequirement already satisfied: requests in /usr/local/lib/python3.6/dist-packages (from geocoder) (2.21.0)\n",
            "Requirement already satisfied: click in /usr/local/lib/python3.6/dist-packages (from geocoder) (7.1.1)\n",
            "Requirement already satisfied: future in /usr/local/lib/python3.6/dist-packages (from geocoder) (0.16.0)\n",
            "Requirement already satisfied: six in /usr/local/lib/python3.6/dist-packages (from geocoder) (1.12.0)\n",
            "Collecting ratelim\n",
            "  Downloading https://files.pythonhosted.org/packages/f2/98/7e6d147fd16a10a5f821db6e25f192265d6ecca3d82957a4fdd592cad49c/ratelim-0.1.6-py2.py3-none-any.whl\n",
            "Requirement already satisfied: idna<2.9,>=2.5 in /usr/local/lib/python3.6/dist-packages (from requests->geocoder) (2.8)\n",
            "Requirement already satisfied: urllib3<1.25,>=1.21.1 in /usr/local/lib/python3.6/dist-packages (from requests->geocoder) (1.24.3)\n",
            "Requirement already satisfied: chardet<3.1.0,>=3.0.2 in /usr/local/lib/python3.6/dist-packages (from requests->geocoder) (3.0.4)\n",
            "Requirement already satisfied: certifi>=2017.4.17 in /usr/local/lib/python3.6/dist-packages (from requests->geocoder) (2020.4.5.1)\n",
            "Requirement already satisfied: decorator in /usr/local/lib/python3.6/dist-packages (from ratelim->geocoder) (4.4.2)\n",
            "Installing collected packages: ratelim, geocoder\n",
            "Successfully installed geocoder-1.38.1 ratelim-0.1.6\n"
          ],
          "name": "stdout"
        }
      ]
    },
    {
      "cell_type": "markdown",
      "metadata": {
        "id": "jEIik-jI1cOj",
        "colab_type": "text"
      },
      "source": [
        "\n",
        "\n",
        "*   Now that we've imported our packages, let's get the coordinats from the Wikipedia, using Beautiful Soup package for scraping.\n",
        "\n"
      ]
    },
    {
      "cell_type": "code",
      "metadata": {
        "id": "nmeSYml0gTKd",
        "colab_type": "code",
        "colab": {}
      },
      "source": [
        "source = requests.get(\"https://en.wikipedia.org/wiki/List_of_postal_codes_of_Canada:_M\").text\n",
        "soup = BeautifulSoup(source, 'lxml')\n",
        "table = soup.find(\"table\")"
      ],
      "execution_count": 0,
      "outputs": []
    },
    {
      "cell_type": "markdown",
      "metadata": {
        "id": "1yMzn_9N19Fc",
        "colab_type": "text"
      },
      "source": [
        "\n",
        "\n",
        "*   We'll write our findings to a csv file. So, let's create one and initialize a csv writer.\n",
        "\n"
      ]
    },
    {
      "cell_type": "code",
      "metadata": {
        "id": "zbJrkxJtgfnG",
        "colab_type": "code",
        "colab": {}
      },
      "source": [
        "csv_file = open('canadaPostal.csv', 'w')\n",
        "csv_writer = csv.writer(csv_file)"
      ],
      "execution_count": 0,
      "outputs": []
    },
    {
      "cell_type": "markdown",
      "metadata": {
        "id": "YQaBh79r2Qvk",
        "colab_type": "text"
      },
      "source": [
        "\n",
        "\n",
        "*   Firstly, we'll scrape column names from the wiki table.\n",
        "\n"
      ]
    },
    {
      "cell_type": "code",
      "metadata": {
        "id": "38zye6lCgmt2",
        "colab_type": "code",
        "colab": {}
      },
      "source": [
        "columns = []\n",
        "for th in table.find_all(\"th\"):\n",
        "    ftext = th.text.strip()\n",
        "    columns.append(ftext)\n",
        "\n",
        "csv_writer.writerow(columns)"
      ],
      "execution_count": 0,
      "outputs": []
    },
    {
      "cell_type": "markdown",
      "metadata": {
        "id": "8SNeNRX12ag0",
        "colab_type": "text"
      },
      "source": [
        "\n",
        "\n",
        "*   And then, the rest of the table.\n",
        "\n"
      ]
    },
    {
      "cell_type": "code",
      "metadata": {
        "id": "zTGfI4VmgpJG",
        "colab_type": "code",
        "colab": {}
      },
      "source": [
        "table = table.tbody\n",
        "for tr in table.find_all(\"tr\"):\n",
        "    columns = []\n",
        "    for td in tr.find_all(\"td\"):\n",
        "        ftext = td.text.strip()\n",
        "        ftext = ftext.replace(\"/\", \",\") # If neighbourhood has more than one value, change the seperation to \",\" instead of \"/\".\n",
        "        ftext = re.sub(r'\\s+(,)', r'\\1', ftext) # Remove the space before \",\". \n",
        "        if(ftext == \"Not assigned\"):\n",
        "            columns = []\n",
        "            break\n",
        "        \n",
        "        columns.append(ftext)\n",
        "    csv_writer.writerow(columns)\n",
        "\n",
        "csv_file.close()"
      ],
      "execution_count": 0,
      "outputs": []
    },
    {
      "cell_type": "markdown",
      "metadata": {
        "id": "ak2O9ArQ2l70",
        "colab_type": "text"
      },
      "source": [
        "\n",
        "\n",
        "*   Let's take a look at our data.\n",
        "\n"
      ]
    },
    {
      "cell_type": "code",
      "metadata": {
        "id": "fAogfP5og1cm",
        "colab_type": "code",
        "outputId": "7fb26082-8395-4dc3-8fd8-7b9c711df46e",
        "colab": {
          "base_uri": "https://localhost:8080/",
          "height": 204
        }
      },
      "source": [
        "canada_postals_df = pd.read_csv('canadaPostal.csv') \n",
        "canada_postals_df.head()"
      ],
      "execution_count": 9,
      "outputs": [
        {
          "output_type": "execute_result",
          "data": {
            "text/html": [
              "<div>\n",
              "<style scoped>\n",
              "    .dataframe tbody tr th:only-of-type {\n",
              "        vertical-align: middle;\n",
              "    }\n",
              "\n",
              "    .dataframe tbody tr th {\n",
              "        vertical-align: top;\n",
              "    }\n",
              "\n",
              "    .dataframe thead th {\n",
              "        text-align: right;\n",
              "    }\n",
              "</style>\n",
              "<table border=\"1\" class=\"dataframe\">\n",
              "  <thead>\n",
              "    <tr style=\"text-align: right;\">\n",
              "      <th></th>\n",
              "      <th>Postal code</th>\n",
              "      <th>Borough</th>\n",
              "      <th>Neighborhood</th>\n",
              "    </tr>\n",
              "  </thead>\n",
              "  <tbody>\n",
              "    <tr>\n",
              "      <th>0</th>\n",
              "      <td>M3A</td>\n",
              "      <td>North York</td>\n",
              "      <td>Parkwoods</td>\n",
              "    </tr>\n",
              "    <tr>\n",
              "      <th>1</th>\n",
              "      <td>M4A</td>\n",
              "      <td>North York</td>\n",
              "      <td>Victoria Village</td>\n",
              "    </tr>\n",
              "    <tr>\n",
              "      <th>2</th>\n",
              "      <td>M5A</td>\n",
              "      <td>Downtown Toronto</td>\n",
              "      <td>Regent Park, Harbourfront</td>\n",
              "    </tr>\n",
              "    <tr>\n",
              "      <th>3</th>\n",
              "      <td>M6A</td>\n",
              "      <td>North York</td>\n",
              "      <td>Lawrence Manor, Lawrence Heights</td>\n",
              "    </tr>\n",
              "    <tr>\n",
              "      <th>4</th>\n",
              "      <td>M7A</td>\n",
              "      <td>Downtown Toronto</td>\n",
              "      <td>Queen's Park, Ontario Provincial Government</td>\n",
              "    </tr>\n",
              "  </tbody>\n",
              "</table>\n",
              "</div>"
            ],
            "text/plain": [
              "  Postal code           Borough                                 Neighborhood\n",
              "0         M3A        North York                                    Parkwoods\n",
              "1         M4A        North York                             Victoria Village\n",
              "2         M5A  Downtown Toronto                    Regent Park, Harbourfront\n",
              "3         M6A        North York             Lawrence Manor, Lawrence Heights\n",
              "4         M7A  Downtown Toronto  Queen's Park, Ontario Provincial Government"
            ]
          },
          "metadata": {
            "tags": []
          },
          "execution_count": 9
        }
      ]
    },
    {
      "cell_type": "markdown",
      "metadata": {
        "id": "R-yZvAFP24jU",
        "colab_type": "text"
      },
      "source": [
        "\n",
        "\n",
        "*   And the shape of our data:\n",
        "\n"
      ]
    },
    {
      "cell_type": "code",
      "metadata": {
        "id": "9rd8pxFX2uMk",
        "colab_type": "code",
        "colab": {
          "base_uri": "https://localhost:8080/",
          "height": 34
        },
        "outputId": "137b9af8-7237-44de-f063-a87e0752ab2f"
      },
      "source": [
        "canada_postals_df.shape"
      ],
      "execution_count": 14,
      "outputs": [
        {
          "output_type": "execute_result",
          "data": {
            "text/plain": [
              "(103, 3)"
            ]
          },
          "metadata": {
            "tags": []
          },
          "execution_count": 14
        }
      ]
    },
    {
      "cell_type": "markdown",
      "metadata": {
        "id": "4fLo_BFu3CTj",
        "colab_type": "text"
      },
      "source": [
        "\n",
        "\n",
        "*   I've tried using Geopy for obtaining the coordinates, but it kept returning none. Therefore, I commented out the whole section below.\n",
        "\n"
      ]
    },
    {
      "cell_type": "code",
      "metadata": {
        "id": "ve3If5LD3iuW",
        "colab_type": "code",
        "colab": {}
      },
      "source": [
        "\"\"\"\n",
        "# Initialize variables.\n",
        "pcodes = canada_postals_df[\"Postal code\"].tolist()\n",
        "latitudes = []\n",
        "longitudes = []\n",
        "# Get the geo dats.\n",
        "for pcode in pcodes:\n",
        "    coords = None\n",
        "    while(coords is None):\n",
        "      g = geocoder.google('{}, Toronto, Ontario'.format(pcode))\n",
        "      coords = g.latlng\n",
        "      print(coords)\n",
        "      \n",
        "    latitudes.append(coords[0])\n",
        "    longitudes.append(coords[1])\n",
        "\n",
        "print(latitudes.length)  \n",
        "\"\"\""
      ],
      "execution_count": 0,
      "outputs": []
    },
    {
      "cell_type": "markdown",
      "metadata": {
        "id": "Up321UcC3cS2",
        "colab_type": "text"
      },
      "source": [
        "*   So instead, I've used the csv data presented.\n"
      ]
    },
    {
      "cell_type": "code",
      "metadata": {
        "id": "U0zoyurThpfx",
        "colab_type": "code",
        "outputId": "49c368cf-c9c5-4186-8ff8-ac952d448b93",
        "colab": {
          "base_uri": "https://localhost:8080/",
          "height": 153
        }
      },
      "source": [
        "geodata = pd.read_csv(\"geo_coords.csv\")\n",
        "canada_postals_df = canada_postals_df.join(geodata.set_index('Postal Code'), on = 'Postal code')\n",
        "print(canada_postals_df.head())"
      ],
      "execution_count": 16,
      "outputs": [
        {
          "output_type": "stream",
          "text": [
            "  Postal code           Borough  ...   Latitude  Longitude\n",
            "0         M3A        North York  ...  43.753259 -79.329656\n",
            "1         M4A        North York  ...  43.725882 -79.315572\n",
            "2         M5A  Downtown Toronto  ...  43.654260 -79.360636\n",
            "3         M6A        North York  ...  43.718518 -79.464763\n",
            "4         M7A  Downtown Toronto  ...  43.662301 -79.389494\n",
            "\n",
            "[5 rows x 5 columns]\n"
          ],
          "name": "stdout"
        }
      ]
    },
    {
      "cell_type": "markdown",
      "metadata": {
        "id": "VXgg-mOM4Qkg",
        "colab_type": "text"
      },
      "source": [
        "\n",
        "\n",
        "*  Lastly, let's export our data to a csv file, so that we can use it for the next part: Clustering.  \n",
        "\n",
        "\n"
      ]
    },
    {
      "cell_type": "code",
      "metadata": {
        "id": "chkhZjgjOd9t",
        "colab_type": "code",
        "colab": {}
      },
      "source": [
        "canada_postals_df.to_csv('canada_coords.csv', index = False)"
      ],
      "execution_count": 0,
      "outputs": []
    },
    {
      "cell_type": "markdown",
      "metadata": {
        "id": "QIX5PnTy4qQ0",
        "colab_type": "text"
      },
      "source": [
        "\n",
        "\n",
        "*   Clustering the Toronto Neighborhoods: https://github.com/Tardiser/Coursera_Capstone/blob/master/TorontoNeighsClustered.ipynb \n",
        "\n"
      ]
    }
  ]
}